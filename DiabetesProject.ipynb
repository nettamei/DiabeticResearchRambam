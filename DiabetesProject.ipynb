{
  "nbformat": 4,
  "nbformat_minor": 0,
  "metadata": {
    "colab": {
      "provenance": []
    },
    "kernelspec": {
      "name": "python3",
      "display_name": "Python 3"
    },
    "language_info": {
      "name": "python"
    }
  },
  "cells": [
    {
      "cell_type": "markdown",
      "source": [
        "## **Seperating Hospitalizations Per Patient**"
      ],
      "metadata": {
        "id": "tywrHkiOETca"
      }
    },
    {
      "cell_type": "markdown",
      "source": [
        "We want to add an identifier for each hospitalization per patient to seperate the data for each hospitalization.\n",
        "We will use the StartTime of the concepts \"Hospitaliztion In\" and \"Hospitaliztion Out\" to identify each hospitalization of a patient and all the records during this hospitalization."
      ],
      "metadata": {
        "id": "GpqafR5TEuGf"
      }
    },
    {
      "cell_type": "markdown",
      "source": [
        "1. Number the \"Hospitaliztion In\" and \"Hospitaliztion Out\" concepts of each patient.\n",
        "- Added a column NumberOfHospitaliztion"
      ],
      "metadata": {
        "id": "rNFIW6W1F1RV"
      }
    },
    {
      "cell_type": "code",
      "execution_count": null,
      "metadata": {
        "colab": {
          "base_uri": "https://localhost:8080/",
          "height": 106
        },
        "id": "ge3Ae0X9Bb_h",
        "outputId": "9e1ed2ed-47b8-46a3-c902-eb37468ef889"
      },
      "outputs": [
        {
          "output_type": "error",
          "ename": "SyntaxError",
          "evalue": "invalid syntax (<ipython-input-1-8fa992bf4151>, line 1)",
          "traceback": [
            "\u001b[0;36m  File \u001b[0;32m\"<ipython-input-1-8fa992bf4151>\"\u001b[0;36m, line \u001b[0;32m1\u001b[0m\n\u001b[0;31m    WITH MispurIshpuzIN AS (\u001b[0m\n\u001b[0m         ^\u001b[0m\n\u001b[0;31mSyntaxError\u001b[0m\u001b[0;31m:\u001b[0m invalid syntax\n"
          ]
        }
      ],
      "source": [
        "WITH MispurIshpuzIN AS (\n",
        "    SELECT\n",
        "        PatientID,\n",
        "        ConceptName,\n",
        "        StartTime,\n",
        "        EndTime,\n",
        "        value,\n",
        "        ROW_NUMBER() OVER (PARTITION BY PatientID ORDER BY StartTime) AS NumberOfHospitaliztion\n",
        "    FROM DiabeticResearch_Rambam.dbo.InputPatientsData\n",
        "    WHERE ConceptName = 'Hospitaliztion In'\n",
        "),\n",
        "MispurIshpuzOUT AS (\n",
        "    SELECT\n",
        "        PatientID,\n",
        "        ConceptName,\n",
        "        StartTime,\n",
        "        EndTime,\n",
        "        value,\n",
        "        ROW_NUMBER() OVER (PARTITION BY PatientID ORDER BY StartTime) AS NumberOfHospitaliztion\n",
        "    FROM DiabeticResearch_Rambam.dbo.InputPatientsData\n",
        "    WHERE ConceptName = 'Hospitaliztion out'\n",
        "),\n"
      ]
    },
    {
      "cell_type": "markdown",
      "source": [
        "2. Adding the hospitalization number for all concepts between \"Hospitaliztion In\" and \"Hospitaliztion Out\"."
      ],
      "metadata": {
        "id": "Zm_iNTHjGwD9"
      }
    },
    {
      "cell_type": "code",
      "source": [
        "MispurIshpuzTotal AS (\n",
        "    SELECT\n",
        "        hb.PatientID,\n",
        "        b.ConceptName,\n",
        "        b.StartTime,\n",
        "        b.EndTime,\n",
        "        b.value,\n",
        "        hb.NumberOfHospitaliztion\n",
        "    FROM MispurIshpuzIN hb\n",
        "    JOIN MispurIshpuzOUT ho\n",
        "        ON hb.PatientID = ho.PatientID\n",
        "        AND hb.NumberOfHospitaliztion = ho.NumberOfHospitaliztion\n",
        "    JOIN DiabeticResearch_Rambam.dbo.InputPatientsData b\n",
        "        ON b.PatientID = hb.PatientID\n",
        "        AND b.StartTime >= hb.StartTime\n",
        "        AND b.StartTime <= ho.StartTime\n",
        "),\n"
      ],
      "metadata": {
        "id": "ndUWAef3G41e"
      },
      "execution_count": null,
      "outputs": []
    },
    {
      "cell_type": "markdown",
      "source": [
        "3. Removing the NumberOfHospitaliztion and concatinating the hospitalization number to the PatientID."
      ],
      "metadata": {
        "id": "F9oG-olEG76g"
      }
    },
    {
      "cell_type": "code",
      "source": [
        "MispurIshpuzTotal_ChangeIDs AS (\n",
        "    SELECT\n",
        "        CAST(PatientID AS NVARCHAR(500)) + '_' + CAST(NumberOfHospitaliztion AS NVARCHAR(500)) AS PatientID,\n",
        "        ConceptName,\n",
        "        StartTime,\n",
        "        EndTime,\n",
        "        value\n",
        "    FROM MispurIshpuzTotal\n",
        "),\n"
      ],
      "metadata": {
        "id": "o9svO_K5HMPG"
      },
      "execution_count": null,
      "outputs": []
    },
    {
      "cell_type": "markdown",
      "source": [],
      "metadata": {
        "id": "dID6lRr8HR2l"
      }
    },
    {
      "cell_type": "markdown",
      "source": [
        "# **Data retrieval for the hypoglycemia target group**"
      ],
      "metadata": {
        "id": "ZDDs753uIefU"
      }
    },
    {
      "cell_type": "markdown",
      "source": [
        "1. Search for a diagnosis of hypoglycemia all patients"
      ],
      "metadata": {
        "id": "LgsD5VJzIrKI"
      }
    },
    {
      "cell_type": "code",
      "source": [
        "FirstGlucoseEvent AS (\n",
        "    SELECT\n",
        "        PatientID,\n",
        "        MIN(StartTime) AS firstDate\n",
        "    FROM MispurIshpuzTotal_ChangeIDs\n",
        "    WHERE (conceptname LIKE '%Glucose (glucometer) - whole blood%'\n",
        "           OR ConceptName LIKE '%Glucose-BL%'\n",
        "           OR ConceptName LIKE '%Glucose-Body Fluids%')\n",
        "      AND TRY_CAST(value AS FLOAT) <= 70\n",
        "    GROUP BY PatientID\n",
        ")\n"
      ],
      "metadata": {
        "id": "b-Y4SYWOIqb-"
      },
      "execution_count": null,
      "outputs": []
    },
    {
      "cell_type": "markdown",
      "source": [
        "2. Retrieving all patients data up until the hypogycemia diagnosis"
      ],
      "metadata": {
        "id": "ai2Na4TaI6Ch"
      }
    },
    {
      "cell_type": "code",
      "source": [
        "SELECT\n",
        "    MispurIshpuzTotal_ChangeIDs.*\n",
        "FROM MispurIshpuzTotal_ChangeIDs\n",
        "LEFT JOIN FirstGlucoseEvent fge\n",
        "    ON MispurIshpuzTotal_ChangeIDs.PatientID = CAST(fge.PatientID AS NVARCHAR(500))\n",
        "WHERE ((fge.firstDate IS NOT NULL AND MispurIshpuzTotal_ChangeIDs.StartTime <= fge.firstDate)\n",
        "       OR (fge.firstDate IS NULL))\n",
        "ORDER BY MispurIshpuzTotal_ChangeIDs.PatientID, MispurIshpuzTotal_ChangeIDs.StartTime;"
      ],
      "metadata": {
        "id": "3SAJgh2oJO1t"
      },
      "execution_count": null,
      "outputs": []
    },
    {
      "cell_type": "code",
      "source": [
        "import platform\n",
        "print(platform.architecture())\n"
      ],
      "metadata": {
        "colab": {
          "base_uri": "https://localhost:8080/"
        },
        "id": "BM_hgC-2mtKD",
        "outputId": "d5e87a60-367a-4afd-dd83-e8e46748a307"
      },
      "execution_count": null,
      "outputs": [
        {
          "output_type": "stream",
          "name": "stdout",
          "text": [
            "('64bit', 'ELF')\n"
          ]
        }
      ]
    },
    {
      "cell_type": "code",
      "source": [
        "import pyodbc\n",
        "print(pyodbc.drivers())\n",
        "\n",
        "import pandas as pd\n",
        "import platform\n",
        "print(platform.architecture())\n",
        "\n",
        "# פרטי החיבור\n",
        "server = '11.0.2100.60'\n",
        "database = 'DiabeticResearch_Rambam'\n",
        "username = 'visitors'\n",
        "password = 'visitors'\n",
        "driver = 'ODBC Driver 17 for SQL Server'\n",
        "\n",
        "# מחרוזת החיבור עם הנהג המוגדר\n",
        "connection_string = f\"DRIVER={{ODBC Driver 17 for SQL Server}};SERVER={server};DATABASE={database};UID={username};PWD={password};TrustServerCertificate=YES\"\n",
        "\n",
        "print(connection_string)\n",
        "\n",
        "# חיבור לבסיס הנתונים\n",
        "try:\n",
        "    conn = pyodbc.connect(connection_string)\n",
        "    print(\"Connection successful!\")\n",
        "\n",
        "    # ביצוע שאילתה\n",
        "    query = \"SELECT TOP 200 conceptname FROM InputPatientsData\"\n",
        "    df = pd.read_sql(query, conn)\n",
        "\n",
        "    # הצגת התוצאות\n",
        "    print(df)\n",
        "\n",
        "    # סגירת החיבור\n",
        "    conn.close()\n",
        "except Exception as e:\n",
        "    print(f\"Error: {e}\")\n"
      ],
      "metadata": {
        "colab": {
          "base_uri": "https://localhost:8080/"
        },
        "id": "13Hmec4bj6sp",
        "outputId": "acc1748e-e341-445c-a4a4-b74aeb88fd96"
      },
      "execution_count": null,
      "outputs": [
        {
          "output_type": "stream",
          "name": "stdout",
          "text": [
            "[]\n",
            "('64bit', 'ELF')\n",
            "DRIVER={ODBC Driver 17 for SQL Server};SERVER=11.0.2100.60;DATABASE=DiabeticResearch_Rambam;UID=visitors;PWD=visitors;TrustServerCertificate=YES\n",
            "Error: ('01000', \"[01000] [unixODBC][Driver Manager]Can't open lib 'ODBC Driver 17 for SQL Server' : file not found (0) (SQLDriverConnect)\")\n"
          ]
        }
      ]
    },
    {
      "cell_type": "markdown",
      "source": [
        "## הכנסת קוד לטבלה לפני סינון לפי קונספטים ודופק וקבוצת מטרה\n"
      ],
      "metadata": {
        "id": "3AdAkQrR7yC9"
      }
    },
    {
      "cell_type": "code",
      "source": [
        "WITH MispurIshpuzIN AS (\n",
        "    SELECT\n",
        "        PatientID,\n",
        "        ConceptName,\n",
        "        StartTime,\n",
        "        EndTime,\n",
        "        value,\n",
        "        ROW_NUMBER() OVER (PARTITION BY PatientID ORDER BY StartTime) AS NumberOfHospitaliztion\n",
        "    FROM DiabeticResearch_Rambam.dbo.InputPatientsData\n",
        "    WHERE ConceptName = 'Hospitaliztion In'\n",
        "),\n",
        "MispurIshpuzOUT AS (\n",
        "    SELECT\n",
        "        PatientID,\n",
        "        ConceptName,\n",
        "        StartTime,\n",
        "        EndTime,\n",
        "        value,\n",
        "        ROW_NUMBER() OVER (PARTITION BY PatientID ORDER BY StartTime) AS NumberOfHospitaliztion\n",
        "    FROM DiabeticResearch_Rambam.dbo.InputPatientsData\n",
        "    WHERE ConceptName = 'Hospitaliztion out'\n",
        "),\n",
        "MispurIshpuzTotal AS (\n",
        "    SELECT\n",
        "        hb.PatientID,\n",
        "        b.ConceptName,\n",
        "        b.StartTime,\n",
        "        b.EndTime,\n",
        "        b.value,\n",
        "        hb.NumberOfHospitaliztion\n",
        "    FROM MispurIshpuzIN hb\n",
        "    JOIN MispurIshpuzOUT ho\n",
        "        ON hb.PatientID = ho.PatientID\n",
        "        AND hb.NumberOfHospitaliztion = ho.NumberOfHospitaliztion\n",
        "    JOIN DiabeticResearch_Rambam.dbo.InputPatientsData b\n",
        "        ON b.PatientID = hb.PatientID\n",
        "        AND b.StartTime >= hb.StartTime\n",
        "        AND b.StartTime <= ho.StartTime\n",
        "),\n",
        "HospitalizationCTE AS (\n",
        "    SELECT\n",
        "        cast(CAST(PatientID AS NVARCHAR(500)) + CAST(NumberOfHospitaliztion AS NVARCHAR(500)) as int) AS PatientID,\n",
        "        ConceptName,\n",
        "        StartTime,\n",
        "        EndTime,\n",
        "        value\n",
        "    FROM MispurIshpuzTotal\n",
        "    WHERE ConceptName IN ('Hospitaliztion In', 'Hospitaliztion Out')\n",
        "),\n",
        "TimeDifferenceCTE AS (\n",
        "    SELECT\n",
        "        h_in.PatientID,\n",
        "        DATEDIFF(HOUR, h_in.StartTime, h_out.EndTime) AS HoursDifference\n",
        "    FROM HospitalizationCTE h_in\n",
        "    JOIN HospitalizationCTE h_out\n",
        "        ON h_in.PatientID = h_out.PatientID\n",
        "        AND h_in.ConceptName = 'Hospitaliztion In'\n",
        "        AND h_out.ConceptName = 'Hospitaliztion Out'\n",
        "        AND h_out.StartTime > h_in.StartTime\n",
        "),\n",
        "FilteredPatients AS (\n",
        "    SELECT DISTINCT\n",
        "        PatientID\n",
        "    FROM TimeDifferenceCTE\n",
        "    WHERE HoursDifference >= 48\n",
        ")\n",
        "insert into Rambam_Hypoglycemia_Students.dbo.InputPatientsData(PatientID, ConceptName, StartTime, EndTime, Value)\n",
        "SELECT\n",
        "    cast(CAST(PatientID AS NVARCHAR(500)) + CAST(NumberOfHospitaliztion AS NVARCHAR(500)) as int) AS PatientID,\n",
        "    ConceptName,\n",
        "    StartTime,\n",
        "    EndTime,\n",
        "    value\n",
        "FROM MispurIshpuzTotal\n",
        "WHERE cast(CAST(PatientID AS NVARCHAR(500)) + CAST(NumberOfHospitaliztion AS NVARCHAR(500)) as int) IN (SELECT PatientID FROM FilteredPatients) and len(conceptname) <= 50\n",
        "ORDER BY PatientID, StartTime;"
      ],
      "metadata": {
        "id": "WbDCZQ2pj8ht"
      },
      "execution_count": null,
      "outputs": []
    },
    {
      "cell_type": "markdown",
      "source": [
        "## סינון אשפוזי יום:\n",
        "מאושפזים שלא היה להם בדיקות לחץ דם, דופק ורמת סוכר בין השעות 18:00 עד 7:00 למחרת"
      ],
      "metadata": {
        "id": "ZRDJHBhsPy4r"
      }
    },
    {
      "cell_type": "code",
      "source": [
        "SELECT distinct PatientID FROM Rambam_Hypoglycemia_Students.dbo.InputPatientsData WHERE PatientID in(\n",
        "SELECT  DISTINCT PatientID\n",
        "    FROM Rambam_Hypoglycemia_Students.dbo.InputPatientsData\n",
        "    WHERE\n",
        "        (\n",
        "            -- Filter rows where the StartTime or EndTime fall within the required time range\n",
        "            CAST(StartTime AS TIME) >= '18:00:00'\n",
        "            OR CAST(EndTime AS TIME) <= '07:00:00'\n",
        "        )\n",
        "        AND\n",
        "        -- Filter rows where the ConceptName matches the desired patterns\n",
        "        (\n",
        "            ConceptName LIKE '%דיאסטולי%'\n",
        "            OR ConceptName LIKE '%סיסטולי%'\n",
        "            OR ConceptName LIKE '%glucometer%'\n",
        "            OR ConceptName LIKE '%דופק%'\n",
        "        )\n",
        "\t\t)"
      ],
      "metadata": {
        "id": "djdeStVgPx2E"
      },
      "execution_count": null,
      "outputs": []
    },
    {
      "cell_type": "markdown",
      "source": [
        "## Changing all types of Glucose concepts to 'Glucose'"
      ],
      "metadata": {
        "id": "9lp3nvEzGIMq"
      }
    },
    {
      "cell_type": "code",
      "source": [
        "UPDATE [Rambam_Hypoglycemia_Students].[dbo].[InputPatientsData]\n",
        "SET ConceptName = 'Glucose'\n",
        "WHERE ConceptName IN ('Glucose (glucometer) - whole blood', 'Glucose-BL', 'Glucose-BL (POC)')"
      ],
      "metadata": {
        "id": "PbEIVbLjGHnp"
      },
      "execution_count": null,
      "outputs": []
    },
    {
      "cell_type": "markdown",
      "source": [
        "## Changing all antibiotics concepts to 'Antibiotics'"
      ],
      "metadata": {
        "id": "WpQl19UDFSPH"
      }
    },
    {
      "cell_type": "code",
      "source": [
        "\n",
        "UPDATE [Rambam_Hypoglycemia_Students].[dbo].[InputPatientsData]\n",
        "SET ConceptName = 'Antibiotics'\n",
        "WHERE ConceptName IN (\n",
        "    'Cefamezin',\n",
        "    'Ceftazidime',\n",
        "    'Diflucan',\n",
        "    'Flagyl',\n",
        "    'Metronidazole',\n",
        "    'Noxafil',\n",
        "    'Orbenil',\n",
        "    'Pipril',\n",
        "    'Resprim forte',\n",
        "    'Tygacil',\n",
        "    'Vancomycin',\n",
        "    'Chloramphenicol',\n",
        "    'Cidofovir',\n",
        "    'Doxylin',\n",
        "    'Epivir',\n",
        "    'Foscavir',\n",
        "    'Meronem',\n",
        "    'Myambutol',\n",
        "    'Penicillin',\n",
        "    'Rebetol',\n",
        "    'Septrin',\n",
        "    'Cefovit',\n",
        "    'Ciprogis',\n",
        "    'Fluconazole',\n",
        "    'Nystatin',\n",
        "    'Picillin',\n",
        "    'Sporanox',\n",
        "    'Valganciclovir',\n",
        "    'Vfend',\n",
        "    'Amikin',\n",
        "    'Amphotericin',\n",
        "    'Gentamicin',\n",
        "    'Klacid',\n",
        "    'Linezolid',\n",
        "    'Neomycin',\n",
        "    'Oralten',\n",
        "    'Rocephin',\n",
        "    'Zeffix',\n",
        "    'Albendazole',\n",
        "    'Ceforal',\n",
        "    'Ciproxin',\n",
        "    'Erythromycin',\n",
        "    'Hepsera',\n",
        "    'Imipenem',\n",
        "    'Karin',\n",
        "    'Levofloxacin',\n",
        "    'Moxyvit',\n",
        "    'Resprim',\n",
        "    'Rulid',\n",
        "    'Sulfatrim',\n",
        "    'Ancotil',\n",
        "    'Clindamycin',\n",
        "    'Doxy 100',\n",
        "    'Eraxis',\n",
        "    'Ertapenem',\n",
        "    'Ethambutol',\n",
        "    'Penibrin',\n",
        "    'Rafapen mega',\n",
        "    'Tamiflu',\n",
        "    'Zinacef',\n",
        "    'Augmentin',\n",
        "    'Caspofungin',\n",
        "    'Coliracin',\n",
        "    'Moxypen',\n",
        "    'Tazocin',\n",
        "    'Viread',\n",
        "    'Voriconazole',\n",
        "    'Ziagen',\n",
        "    'Amikacin',\n",
        "    'Ampicillin',\n",
        "    'Cefuroxime -teva',\n",
        "    'Claforan',\n",
        "    'Doxibiotic',\n",
        "    'Erythrocin',\n",
        "    'Lexiva',\n",
        "    'Minocin',\n",
        "    'Rafapen v.k.',\n",
        "    'Amoxi',\n",
        "    'Azenil',\n",
        "    'Dalacin c',\n",
        "    'Macrodantin',\n",
        "    'Meropenem',\n",
        "    'Tobi',\n",
        "    'Valcyte',\n",
        "    'Zeto',\n",
        "    'Ambisome',\n",
        "    'Diseptyl',\n",
        "    'Fortum',\n",
        "    'Invanz',\n",
        "    'Keflex',\n",
        "    'Minoclin',\n",
        "    'Minocycline',\n",
        "    'Pyrazinamide',\n",
        "    'Ribavirin',\n",
        "    'Rifampin',\n",
        "    'Tarivid',\n",
        "    'Tavanic',\n",
        "    'Trican',\n",
        "    'Unasyn',\n",
        "    'Vanco-teva',\n",
        "    'Zinnat',\n",
        "    'Zovirax',\n",
        "\t'Chloramphenicol')\n",
        "\n",
        "\n",
        "\n",
        "\n"
      ],
      "metadata": {
        "colab": {
          "base_uri": "https://localhost:8080/",
          "height": 106
        },
        "id": "-7-NGICrFeXx",
        "outputId": "b353450f-e9c7-4431-c633-027e4c7b7dc1"
      },
      "execution_count": 1,
      "outputs": [
        {
          "output_type": "error",
          "ename": "SyntaxError",
          "evalue": "invalid non-printable character U+00A0 (<ipython-input-1-942cdaf21325>, line 105)",
          "traceback": [
            "\u001b[0;36m  File \u001b[0;32m\"<ipython-input-1-942cdaf21325>\"\u001b[0;36m, line \u001b[0;32m105\u001b[0m\n\u001b[0;31m    'Zovirax',\u001b[0m\n\u001b[0m    ^\u001b[0m\n\u001b[0;31mSyntaxError\u001b[0m\u001b[0;31m:\u001b[0m invalid non-printable character U+00A0\n"
          ]
        }
      ]
    },
    {
      "cell_type": "markdown",
      "source": [
        "## Changing 'דופק' to 'Heart Rate'"
      ],
      "metadata": {
        "id": "xp4sTzmldYeK"
      }
    },
    {
      "cell_type": "code",
      "source": [
        "UPDATE [Rambam_Hypoglycemia_Students].[dbo].[InputPatientsData]\n",
        "SET ConceptName = 'Heart Rate'\n",
        "WHERE   (ConceptName LIKE N'%דופק%')"
      ],
      "metadata": {
        "id": "EHGFLcGWFfVN"
      },
      "execution_count": null,
      "outputs": []
    }
  ]
}